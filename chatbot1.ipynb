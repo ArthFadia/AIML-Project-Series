{
 "cells": [
  {
   "cell_type": "code",
   "execution_count": 4,
   "id": "2657baa3",
   "metadata": {},
   "outputs": [
    {
     "name": "stdout",
     "output_type": "stream",
     "text": [
      "Please enter your name: arth\n",
      "Hello, arth! How can I assist you today?\n",
      "How are you today?\n",
      "How are you?\n",
      "That's good to hear!\n",
      "What's your favorite color?\n",
      "red\n",
      "Interesting choice of color!\n",
      "Do you like music?\n",
      "yes\n",
      "Music is a universal language!\n",
      "bye\n",
      "Goodbye, arth! Have a great day!\n"
     ]
    }
   ],
   "source": [
    "class Chat:\n",
    "    def __init__(self):\n",
    "        self.user_name = \"\"\n",
    "        self.previous_messages = []\n",
    "\n",
    "    def greeting(self):\n",
    "        return f\"Hello, {self.user_name}! How can I assist you today?\"\n",
    "\n",
    "    def farewell(self):\n",
    "        return f\"Goodbye, {self.user_name}! Have a great day!\"\n",
    "\n",
    "    def ask_questions(self):\n",
    "        questions = [\"How are you today?\", \"What's your favorite color?\", \"Do you like music?\"]\n",
    "        reactions = {\n",
    "            \"How are you today?\": \"That's good to hear!\",\n",
    "            \"What's your favorite color?\": \"Interesting choice of color!\",\n",
    "            \"Do you like music?\": \"Music is a universal language!\"\n",
    "        }\n",
    "        for question in questions:\n",
    "            print(question)\n",
    "            response = input()\n",
    "            print(reactions[question])\n",
    "            self.previous_messages.append((question, response))\n",
    "\n",
    "    def respond_to_user(self, user_input):\n",
    "        basic_responses = {\n",
    "            \"How are you?\": \"I'm a bot, I don't have feelings, but I'm functioning as expected!\",\n",
    "            \"What's your name?\": \"I'm a simple chatbot.\",\n",
    "            \"What's your favorite color?\": \"As a bot, I don't have a favorite color.\",\n",
    "            \"Do you like music?\": \"I don't have personal experiences, but I can find music information for you!\",\n",
    "            \"Tell me a joke.\": \"Why don't scientists trust atoms? Because they make up everything!\"\n",
    "        }\n",
    "        if user_input in basic_responses:\n",
    "            return basic_responses[user_input]\n",
    "        else:\n",
    "            return \"I'm sorry, I didn't understand that. Could you please rephrase?\"\n",
    "\n",
    "    def chat(self):\n",
    "        self.user_name = input(\"Please enter your name: \")\n",
    "        print(self.greeting())\n",
    "        self.ask_questions()\n",
    "        while True:\n",
    "            user_input = input()\n",
    "            if user_input.lower() == \"bye\":\n",
    "                print(self.farewell())\n",
    "                break\n",
    "            else:\n",
    "                response = self.respond_to_user(user_input)\n",
    "                print(response)\n",
    "                self.previous_messages.append((user_input, response))\n",
    "\n",
    "bot = Chat()\n",
    "bot.chat()\n"
   ]
  },
  {
   "cell_type": "code",
   "execution_count": null,
   "id": "59f8f508",
   "metadata": {},
   "outputs": [],
   "source": []
  }
 ],
 "metadata": {
  "kernelspec": {
   "display_name": "Python 3 (ipykernel)",
   "language": "python",
   "name": "python3"
  },
  "language_info": {
   "codemirror_mode": {
    "name": "ipython",
    "version": 3
   },
   "file_extension": ".py",
   "mimetype": "text/x-python",
   "name": "python",
   "nbconvert_exporter": "python",
   "pygments_lexer": "ipython3",
   "version": "3.11.5"
  }
 },
 "nbformat": 4,
 "nbformat_minor": 5
}
